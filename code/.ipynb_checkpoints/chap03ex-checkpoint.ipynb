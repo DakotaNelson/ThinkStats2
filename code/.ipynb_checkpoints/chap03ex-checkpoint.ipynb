{
 "metadata": {
  "name": "",
  "signature": "sha256:87fa9dc2e2778ea51b4d8b63e107d95a3b1ff4e20eccf37596baf6af6ff6dc6c"
 },
 "nbformat": 3,
 "nbformat_minor": 0,
 "worksheets": [
  {
   "cells": [
    {
     "cell_type": "code",
     "collapsed": false,
     "input": [
      "%matplotlib inline"
     ],
     "language": "python",
     "metadata": {},
     "outputs": [],
     "prompt_number": 4
    },
    {
     "cell_type": "markdown",
     "metadata": {},
     "source": [
      "Read the female respondent file."
     ]
    },
    {
     "cell_type": "code",
     "collapsed": false,
     "input": [
      "import chap01soln\n",
      "resp = chap01soln.ReadFemResp()"
     ],
     "language": "python",
     "metadata": {},
     "outputs": [],
     "prompt_number": 2
    },
    {
     "cell_type": "markdown",
     "metadata": {},
     "source": [
      "Make a PMF of <tt>numkdhh</tt>, the number of children under 18 in the respondent's household."
     ]
    },
    {
     "cell_type": "code",
     "collapsed": false,
     "input": [
      "import thinkstats2\n",
      "import thinkplot\n",
      "\n",
      "pmf = thinkstats2.Pmf(resp.numkdhh)"
     ],
     "language": "python",
     "metadata": {},
     "outputs": [],
     "prompt_number": 6
    },
    {
     "cell_type": "markdown",
     "metadata": {},
     "source": [
      "Display the PMF."
     ]
    },
    {
     "cell_type": "code",
     "collapsed": false,
     "input": [
      "thinkplot.Pmf(pmf)\n",
      "thinkplot.Show()"
     ],
     "language": "python",
     "metadata": {},
     "outputs": [
      {
       "metadata": {},
       "output_type": "display_data",
       "png": "[encoded data removed]",
       "text": [
        "<matplotlib.figure.Figure at 0x7f74f89d7350>"
       ]
      },
      {
       "metadata": {},
       "output_type": "display_data",
       "text": [
        "<matplotlib.figure.Figure at 0x7f74f753ce50>"
       ]
      }
     ],
     "prompt_number": 7
    },
    {
     "cell_type": "markdown",
     "metadata": {},
     "source": [
      "Define <tt>BiasPmf</tt>."
     ]
    },
    {
     "cell_type": "code",
     "collapsed": false,
     "input": [
      "def BiasPmf(pmf, label=''):\n",
      "    \"\"\"Returns the Pmf with oversampling proportional to value.\n",
      "\n",
      "    If pmf is the distribution of true values, the result is the\n",
      "    distribution that would be seen if values are oversampled in\n",
      "    proportion to their values; for example, if you ask students\n",
      "    how big their classes are, large classes are oversampled in\n",
      "    proportion to their size.\n",
      "\n",
      "    Args:\n",
      "      pmf: Pmf object.\n",
      "      label: string label for the new Pmf.\n",
      "\n",
      "     Returns:\n",
      "       Pmf object\n",
      "    \"\"\"\n",
      "    new_pmf = pmf.Copy(label=label)\n",
      "\n",
      "    for x, p in pmf.Items():\n",
      "        new_pmf.Mult(x, x)\n",
      "        \n",
      "    new_pmf.Normalize()\n",
      "    return new_pmf"
     ],
     "language": "python",
     "metadata": {},
     "outputs": [],
     "prompt_number": 8
    },
    {
     "cell_type": "markdown",
     "metadata": {},
     "source": [
      "Make a the biased Pmf of children in the household, as observed if you surveyed the children instead of the respondents."
     ]
    },
    {
     "cell_type": "code",
     "collapsed": false,
     "input": [],
     "language": "python",
     "metadata": {},
     "outputs": [],
     "prompt_number": 2
    },
    {
     "cell_type": "markdown",
     "metadata": {},
     "source": [
      "Display the actual Pmf and the biased Pmf on the same axes."
     ]
    },
    {
     "cell_type": "code",
     "collapsed": false,
     "input": [],
     "language": "python",
     "metadata": {},
     "outputs": [],
     "prompt_number": 2
    },
    {
     "cell_type": "markdown",
     "metadata": {},
     "source": [
      "Compute the means of the two Pmfs."
     ]
    },
    {
     "cell_type": "code",
     "collapsed": false,
     "input": [],
     "language": "python",
     "metadata": {},
     "outputs": [],
     "prompt_number": 2
    },
    {
     "cell_type": "code",
     "collapsed": false,
     "input": [],
     "language": "python",
     "metadata": {},
     "outputs": [],
     "prompt_number": 2
    },
    {
     "cell_type": "code",
     "collapsed": false,
     "input": [],
     "language": "python",
     "metadata": {},
     "outputs": [],
     "prompt_number": 2
    }
   ],
   "metadata": {}
  }
 ]
}